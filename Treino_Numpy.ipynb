{
  "nbformat": 4,
  "nbformat_minor": 0,
  "metadata": {
    "colab": {
      "provenance": [],
      "authorship_tag": "ABX9TyPM4Rjnbz7S6uX+W//nC6dg",
      "include_colab_link": true
    },
    "kernelspec": {
      "name": "python3",
      "display_name": "Python 3"
    },
    "language_info": {
      "name": "python"
    }
  },
  "cells": [
    {
      "cell_type": "markdown",
      "metadata": {
        "id": "view-in-github",
        "colab_type": "text"
      },
      "source": [
        "<a href=\"https://colab.research.google.com/github/COAP230023/atividade-praticas-em-numpy-Rapay/blob/main/Treino_Numpy.ipynb\" target=\"_parent\"><img src=\"https://colab.research.google.com/assets/colab-badge.svg\" alt=\"Open In Colab\"/></a>"
      ]
    },
    {
      "cell_type": "code",
      "source": [
        "# Treino de NumPy — 42 exercícios hands-on\n",
        "\n",
        "**Objetivo:** praticar manipulação de arrays NumPy (criação, slicing, broadcasting, álgebra linear, estatística, datas, strides).\n",
        "**Regras:** use **apenas** NumPy (`import numpy as np`). Para reprodutibilidade, prefira `np.random.default_rng(seed)`.\n"
      ],
      "metadata": {
        "id": "ow7oqwVnFHMz"
      },
      "execution_count": null,
      "outputs": []
    },
    {
      "cell_type": "code",
      "source": [
        "### 1. Vetor de zeros  _(fácil)_\n",
        "\n",
        "#Crie um array 1D com 10 zeros usando NumPy e mostre o dtype e o shape.\n",
        "\n",
        "import numpy as np\n",
        "arr = np.zeros(10)\n",
        "print(arr.dtype, arr.shape)\n"
      ],
      "metadata": {
        "id": "FSgfMoc-BSeK"
      },
      "execution_count": null,
      "outputs": []
    },
    {
      "cell_type": "code",
      "source": [
        "### 2. Vetor de uns  _(fácil)_\n",
        "\n",
        "#Crie um array 1D com 10 uns e transforme-o em float64.\n",
        "\n",
        "arr = np.ones(10).astype(np.float64)\n",
        "print(arr)"
      ],
      "metadata": {
        "id": "Dlg224H7BizS"
      },
      "execution_count": null,
      "outputs": []
    },
    {
      "cell_type": "code",
      "source": [
        "### 3. Sequência 0–9  _(fácil)_\n",
        "\n",
        "#Crie um array com os inteiros de 0 a 9 (inclusive).\n",
        "\n",
        "arr = np.arange(10)\n",
        "print(arr)"
      ],
      "metadata": {
        "id": "0yEiwMGuBjB6"
      },
      "execution_count": null,
      "outputs": []
    },
    {
      "cell_type": "code",
      "source": [
        "### 4. Matriz 3×3 com 0…8  _(fácil)_\n",
        "\n",
        "#Crie um array 3×3 com os valores 0…8 (reshape).\n",
        "\n",
        "arr = np.arange(9).reshape(3, 3)\n",
        "print(arr)"
      ],
      "metadata": {
        "id": "GFTND2-JBjFV"
      },
      "execution_count": null,
      "outputs": []
    },
    {
      "cell_type": "code",
      "source": [
        "### 5. Índices não zero  _(fácil)_\n",
        "\n",
        "#Dado o vetor `v = np.array([1,2,0,0,4,0])`, encontre os índices dos elementos não nulos.\n",
        "\n",
        "v = np.array([1,2,0,0,4,0])\n",
        "indices = np.nonzero(v)[0]\n",
        "print(indices)"
      ],
      "metadata": {
        "id": "tgTZtq_-BjH-"
      },
      "execution_count": null,
      "outputs": []
    },
    {
      "cell_type": "code",
      "source": [
        "### 6. Linspace  _(fácil)_\n",
        "\n",
        "#Crie um vetor de 12 pontos igualmente espaçados no intervalo [0, 1].\n",
        "\n",
        "arr = np.linspace(0, 1, 12)\n",
        "print(arr)"
      ],
      "metadata": {
        "id": "NrVUN6RNBjKt"
      },
      "execution_count": null,
      "outputs": []
    },
    {
      "cell_type": "code",
      "source": [
        "### 7. Identidade 5×5  _(fácil)_\n",
        "\n",
        "#Crie uma matriz identidade de ordem 5.\n",
        "\n",
        "arr = np.eye(5)\n",
        "print(arr)"
      ],
      "metadata": {
        "id": "KAGCyHN0BjNX"
      },
      "execution_count": null,
      "outputs": []
    },
    {
      "cell_type": "code",
      "source": [
        "### 8. Aleatórios 3×3×3  _(fácil)_\n",
        "\n",
        "#Gere um array 3×3×3 com valores aleatórios uniformes em [0,1). Use `np.random.default_rng(42)`.\n",
        "\n",
        "rng = np.random.default_rng(42)\n",
        "arr = rng.random((3, 3, 3))\n",
        "print(arr)"
      ],
      "metadata": {
        "id": "i4Y6V9JTBjPy"
      },
      "execution_count": null,
      "outputs": []
    },
    {
      "cell_type": "code",
      "source": [
        "### 9. Min/Max  _(fácil)_\n",
        "\n",
        "#Crie uma matriz 10×10 de aleatórios uniformes e mostre o valor mínimo e máximo.\n",
        "\n",
        "rng = np.random.default_rng(42)\n",
        "arr = rng.random((10, 10))\n",
        "print(f\"Min: {arr.min()}, Max: {arr.max()}\")"
      ],
      "metadata": {
        "id": "g1NxL4mLBVQ9"
      },
      "execution_count": null,
      "outputs": []
    },
    {
      "cell_type": "code",
      "source": [
        "### 10. Padronização 1D  _(fácil)_\n",
        "\n",
        "#Dado `x = [1,2,3,4,5]`, crie um array float e normalize para média 0 e desvio 1.\n",
        "\n",
        "x = np.array([1,2,3,4,5], dtype=float)\n",
        "x_std = (x - x.mean()) / x.std()\n",
        "print(x_std)"
      ],
      "metadata": {
        "id": "sV6uy9iXBVde"
      },
      "execution_count": null,
      "outputs": []
    },
    {
      "cell_type": "code",
      "source": [
        "### 11. Conversão de tipos  _(fácil)_\n",
        "\n",
        "#Converta `np.array([1,2,3])` (int32) para float32 e depois para int64.\n",
        "\n",
        "arr = np.array([1,2,3])\n",
        "arr_float = arr.astype(np.float32)\n",
        "arr_int64 = arr_float.astype(np.int64)\n",
        "print(arr_float.dtype, arr_int64.dtype)"
      ],
      "metadata": {
        "id": "CR9jOz8cBVrs"
      },
      "execution_count": null,
      "outputs": []
    },
    {
      "cell_type": "code",
      "source": [
        "### 12. Clipping  _(fácil)_\n",
        "\n",
        "#Dado `a = [2, 5, 7, 1, 9]`, limite os valores ao intervalo [0,5] (valores acima de 5 tornam-se 5).\n",
        "\n",
        "a = np.array([2,5,7,1,9])\n",
        "a_clipped = np.clip(a, 0, 5)\n",
        "print(a_clipped)"
      ],
      "metadata": {
        "id": "ojz_zkgtBV4F"
      },
      "execution_count": null,
      "outputs": []
    },
    {
      "cell_type": "code",
      "source": [
        "### 13. Inversão  _(fácil)_\n",
        "\n",
        "#Crie um vetor de 0 a 9 e inverta a ordem (sem usar `[::-1]`).\n",
        "\n",
        "arr = np.arange(10)\n",
        "arr_rev = np.flip(arr)\n",
        "print(arr_rev)"
      ],
      "metadata": {
        "id": "GKW8_wlDBWDF"
      },
      "execution_count": null,
      "outputs": []
    },
    {
      "cell_type": "markdown",
      "source": [],
      "metadata": {
        "id": "wzytCJ0ZER99"
      }
    },
    {
      "cell_type": "code",
      "source": [
        "### 14. Empilhamento  _(fácil)_\n",
        "\n",
        "#Dado `a = [1,2,3]` e `b = [4,5,6]`, empilhe horizontal e verticalmente.\n",
        "\n",
        "a = np.array([1,2,3])\n",
        "b = np.array([4,5,6])\n",
        "horizontal = np.hstack((a, b))\n",
        "vertical = np.vstack((a, b))\n",
        "print(horizontal)\n",
        "print(vertical)"
      ],
      "metadata": {
        "id": "WttsQeleBXQ-"
      },
      "execution_count": null,
      "outputs": []
    },
    {
      "cell_type": "code",
      "source": [
        "### 15. Diagonal  _(fácil)_\n",
        "\n",
        "#Crie uma matriz 4×4 com a diagonal principal igual a 5 e as demais entradas zero.\n",
        "\n",
        "arr = np.diag([5,5,5,5])\n",
        "print(arr)"
      ],
      "metadata": {
        "id": "ZIRFXRMBBXYs"
      },
      "execution_count": null,
      "outputs": []
    },
    {
      "cell_type": "code",
      "source": [
        "### 16. Somas por eixo  _(fácil)_\n",
        "\n",
        "#Para a matriz `A = np.arange(12).reshape(3,4)`, calcule a soma por linhas e por colunas.\n",
        "\n",
        "A = np.arange(12).reshape(3,4)\n",
        "soma_linhas = A.sum(axis=1)\n",
        "soma_colunas = A.sum(axis=0)\n",
        "print(soma_linhas, soma_colunas)"
      ],
      "metadata": {
        "id": "cghoxJsbBXcu"
      },
      "execution_count": null,
      "outputs": []
    },
    {
      "cell_type": "code",
      "source": [
        "### 17. Frequências inteiras  _(fácil)_\n",
        "\n",
        "#Gere 100 inteiros aleatórios em [0,9] e conte as frequências de cada valor (0 a 9).\n",
        "\n",
        "rng = np.random.default_rng(42)\n",
        "arr = rng.integers(0, 10, 100)\n",
        "unique, counts = np.unique(arr, return_counts=True)\n",
        "print(dict(zip(unique, counts)))"
      ],
      "metadata": {
        "id": "vbdBW4FeBXgw"
      },
      "execution_count": null,
      "outputs": []
    },
    {
      "cell_type": "code",
      "source": [
        "### 18. Slicing com passo  _(fácil)_\n",
        "\n",
        "#Dado `v = np.arange(20)`, selecione cada 3º elemento começando do índice 1.\n",
        "\n",
        "v = np.arange(20)\n",
        "result = v[1::3]\n",
        "print(result)"
      ],
      "metadata": {
        "id": "JJqzaVoRBXkA"
      },
      "execution_count": null,
      "outputs": []
    },
    {
      "cell_type": "code",
      "source": [
        "### 19. Máscara booleana  _(fácil)_\n",
        "\n",
        "#Crie uma máscara para números pares de `0…19` e use-a para filtrar o vetor.\n",
        "\n",
        "v = np.arange(20)\n",
        "mask = v % 2 == 0\n",
        "pares = v[mask]\n",
        "print(pares)"
      ],
      "metadata": {
        "id": "vLgEEBLmBXn5"
      },
      "execution_count": null,
      "outputs": []
    },
    {
      "cell_type": "code",
      "source": [
        "### 20. Lista de listas → array  _(fácil)_\n",
        "\n",
        "#Converta `[[1,2,3],[4,5,6]]` em `ndarray`, verifique `shape` e `dtype`.\n",
        "\n",
        "lista = [[1,2,3],[4,5,6]]\n",
        "arr = np.array(lista)\n",
        "print(arr.shape, arr.dtype)"
      ],
      "metadata": {
        "id": "qBxdzg33BXp7"
      },
      "execution_count": null,
      "outputs": []
    },
    {
      "cell_type": "code",
      "source": [
        "### 21. Datas básicas  _(fácil)_\n",
        "\n",
        "#Crie um array de datas diárias de 2025-01-01 a 2025-01-07 (inclusive).\n",
        "\n",
        "datas = np.arange('2025-01-01', '2025-01-08', dtype='datetime64[D]')\n",
        "print(datas)"
      ],
      "metadata": {
        "id": "LfgU_uSyBXsh"
      },
      "execution_count": null,
      "outputs": []
    },
    {
      "cell_type": "code",
      "source": [
        "### 22. Centralizar colunas  _(fácil)_\n",
        "\n",
        "#Dada `A = np.array([[1.,2.,3.],[4.,5.,6.]])`, subtraia a média de cada coluna.\n",
        "\n",
        "A = np.array([[1.,2.,3.],[4.,5.,6.]])\n",
        "A_centered = A - A.mean(axis=0)\n",
        "print(A_centered)"
      ],
      "metadata": {
        "id": "BYwzO1vpBXum"
      },
      "execution_count": null,
      "outputs": []
    },
    {
      "cell_type": "code",
      "source": [
        "### 23. Produto elemento-a-elemento vs. escalar  _(fácil)_\n",
        "\n",
        "#Dadas `a=[1,2,3]` e `b=[4,5,6]`, calcule produto elemento a elemento e o produto escalar.\n",
        "\n",
        "a = np.array([1,2,3])\n",
        "b = np.array([4,5,6])\n",
        "elementwise = a * b\n",
        "dot_product = np.dot(a, b)\n",
        "print(elementwise, dot_product)"
      ],
      "metadata": {
        "id": "xyXZiCRBBXzg"
      },
      "execution_count": null,
      "outputs": []
    },
    {
      "cell_type": "code",
      "source": [
        "### 24. Troca de colunas  _(fácil)_\n",
        "\n",
        "#Troque as colunas 0 e 2 de `A = np.arange(12).reshape(3,4)` sem copiar (sempre que possível).\n",
        "\n",
        "A = np.arange(12).reshape(3,4)\n",
        "A[:, [0,2]] = A[:, [2,0]]\n",
        "print(A)"
      ],
      "metadata": {
        "id": "nljQePPyBX17"
      },
      "execution_count": null,
      "outputs": []
    },
    {
      "cell_type": "code",
      "source": [
        "## Médios (12)\n",
        "\n",
        "### 25. Flatten vs. ravel  _(médio)_\n",
        "\n",
        "#Mostre a diferença entre `flatten()` (cópia) e `ravel()` (view quando possível). Modifique o resultado de `ravel()` e observe o original.\n",
        "\n",
        "A = np.array([[1,2],[3,4]])\n",
        "flat = A.flatten()\n",
        "raveled = A.ravel()\n",
        "raveled[0] = 100\n",
        "print(\"Original após ravel:\", A)  # Modificado\n",
        "flat[0] = 999\n",
        "print(\"Original após flatten:\", A)  # Não modificado"
      ],
      "metadata": {
        "id": "OKKBYfPvBX4P"
      },
      "execution_count": null,
      "outputs": []
    },
    {
      "cell_type": "code",
      "source": [
        "### 26. Tabuleiro 8×8  _(médio)_\n",
        "\n",
        "#Crie uma matriz 8×8 com padrão de tabuleiro (0 e 1 alternados).\n",
        "\n",
        "tabuleiro = np.zeros((8,8), dtype=int)\n",
        "tabuleiro[1::2, ::2] = 1\n",
        "tabuleiro[::2, 1::2] = 1\n",
        "print(tabuleiro)"
      ],
      "metadata": {
        "id": "UKdyBt0BBX6i"
      },
      "execution_count": null,
      "outputs": []
    },
    {
      "cell_type": "code",
      "source": [
        "### 27. np.where condicional  _(médio)_\n",
        "\n",
        "#Dado `x = np.arange(-5,6)`, substitua negativos por 0 e mantenha não-negativos.\n",
        "\n",
        "x = np.arange(-5,6)\n",
        "result = np.where(x < 0, 0, x)\n",
        "print(result)"
      ],
      "metadata": {
        "id": "Qbxzqk0PBX9L"
      },
      "execution_count": null,
      "outputs": []
    },
    {
      "cell_type": "code",
      "source": [
        "### 28. Precisão de média  _(médio)_\n",
        "\n",
        "#Gere 1_000_000 floats uniformes em [0,1) e compute a média. Compare com o valor teórico 0.5 (erro absoluto).\n",
        "\n",
        "rng = np.random.default_rng(42)\n",
        "arr = rng.random(1_000_000)\n",
        "media = arr.mean()\n",
        "erro = abs(media - 0.5)\n",
        "print(f\"Média: {media}, Erro: {erro}\")"
      ],
      "metadata": {
        "id": "WTD2Q03JBYA2"
      },
      "execution_count": null,
      "outputs": []
    },
    {
      "cell_type": "code",
      "source": [
        "### 29. Produto cartesiano (broadcasting)  _(médio)_\n",
        "\n",
        "#Dado `a=[1,2,3]` e `b=[10,20,30,40]`, gere todas as somas possíveis `a_i + b_j` via broadcasting (matriz 3×4).\n",
        "\n",
        "a = np.array([1,2,3])\n",
        "b = np.array([10,20,30,40])\n",
        "result = a[:, np.newaxis] + b[np.newaxis, :]\n",
        "print(result)"
      ],
      "metadata": {
        "id": "fPnvmZG2BYDI"
      },
      "execution_count": null,
      "outputs": []
    },
    {
      "cell_type": "code",
      "source": [
        "### 30. Convolução 1D simples  _(médio)_\n",
        "\n",
        "#Implemente uma convolução 1D 'valid' de um sinal `s` por um kernel `k` usando `np.flip` e `np.lib.stride_tricks.sliding_window_view` (sem `np.convolve`).\n",
        "\n",
        "def convolve1d(s, k):\n",
        "    from numpy.lib.stride_tricks import sliding_window_view\n",
        "    windows = sliding_window_view(s, len(k))\n",
        "    return np.sum(windows * np.flip(k), axis=1)\n",
        "\n",
        "s = np.array([1,2,3,4,5])\n",
        "k = np.array([1,1,1])\n",
        "print(convolve1d(s, k))  # [6 9]"
      ],
      "metadata": {
        "id": "0UOu_OwYBYFU"
      },
      "execution_count": null,
      "outputs": []
    },
    {
      "cell_type": "code",
      "source": [
        "### 31. Normalização min–max por coluna  _(médio)_\n",
        "\n",
        "#Dada `A = rng.normal(size=(5,4))`, normalize cada coluna para o intervalo [0,1], tratando colunas constantes.\n",
        "\n",
        "rng = np.random.default_rng(42)\n",
        "A = rng.normal(size=(5,4))\n",
        "min_vals = A.min(axis=0)\n",
        "max_vals = A.max(axis=0)\n",
        "ranges = np.where(max_vals - min_vals == 0, 1, max_vals - min_vals)\n",
        "A_norm = (A - min_vals) / ranges\n",
        "print(A_norm)"
      ],
      "metadata": {
        "id": "QwMnYVkCBYHo"
      },
      "execution_count": null,
      "outputs": []
    },
    {
      "cell_type": "code",
      "source": [
        "### 32. Ordenar por coluna  _(médio)_\n",
        "\n",
        "#Ordene as linhas de `A = np.array([[3,9],[1,4],[2,5]])` pelo valor crescente da 2ª coluna.\n",
        "\n",
        "A = np.array([[3,9],[1,4],[2,5]])\n",
        "indices = A[:,1].argsort()\n",
        "A_sorted = A[indices]\n",
        "print(A_sorted)"
      ],
      "metadata": {
        "id": "FcgU209ABYJ3"
      },
      "execution_count": null,
      "outputs": []
    },
    {
      "cell_type": "code",
      "source": [
        "### 33. Únicos + contagens + primeira ocorrência  _(médio)_\n",
        "\n",
        "#Para `x = [3,1,2,3,2,3,1]`, obtenha valores únicos, contagens e índice da primeira ocorrência de cada valor.\n",
        "\n",
        "x = np.array([3,1,2,3,2,3,1])\n",
        "unique, counts = np.unique(x, return_counts=True)\n",
        "first_occurrence = [np.where(x == u)[0][0] for u in unique]\n",
        "print(\"Únicos:\", unique)\n",
        "print(\"Contagens:\", counts)\n",
        "print(\"Primeira ocorrência:\", first_occurrence)"
      ],
      "metadata": {
        "id": "ThcHD1nyBYMR"
      },
      "execution_count": null,
      "outputs": []
    },
    {
      "cell_type": "code",
      "source": [
        "### 34. Matriz de distâncias 2D  _(médio)_\n",
        "\n",
        "#Dada `P` com N pontos 2D, compute a matriz NxN de distâncias euclidianas sem loops explícitos.\n",
        "\n",
        "def distance_matrix(P):\n",
        "    diff = P[:, np.newaxis, :] - P[np.newaxis, :, :]\n",
        "    return np.sqrt(np.sum(diff**2, axis=-1))\n",
        "\n",
        "P = np.random.rand(5, 2)  # 5 pontos 2D\n",
        "print(distance_matrix(P))"
      ],
      "metadata": {
        "id": "Gq7MndCuBYOe"
      },
      "execution_count": null,
      "outputs": []
    },
    {
      "cell_type": "code",
      "source": [
        "### 35. Covariância e correlação  _(médio)_\n",
        "\n",
        "#Simule uma matriz 1000×3 de N(0,1) e compute `cov` (colunas como variáveis) e `corrcoef`.\n",
        "\n",
        "rng = np.random.default_rng(42)\n",
        "X = rng.standard_normal((1000,3))\n",
        "cov_matrix = np.cov(X, rowvar=False)\n",
        "corr_matrix = np.corrcoef(X, rowvar=False)\n",
        "print(\"Covariância:\\n\", cov_matrix)\n",
        "print(\"Correlação:\\n\", corr_matrix)"
      ],
      "metadata": {
        "id": "BYW19SmVBYQ_"
      },
      "execution_count": null,
      "outputs": []
    },
    {
      "cell_type": "code",
      "source": [
        "### 36. One-hot encoding  _(médio)_\n",
        "\n",
        "#Converta os rótulos `y = [2,0,1,2]` em codificação one-hot usando apenas operações NumPy.\n",
        "\n",
        "y = np.array([2,0,1,2])\n",
        "num_classes = 3\n",
        "one_hot = np.eye(num_classes)[y]\n",
        "print(one_hot)"
      ],
      "metadata": {
        "id": "easbnYx3BYTi"
      },
      "execution_count": null,
      "outputs": []
    },
    {
      "cell_type": "code",
      "source": [
        "## Difíceis (6)\n",
        "\n",
        "### 37. k-means 2D (NumPy puro)  _(difícil)_\n",
        "\n",
        "#Implemente k-means com K=3 em pontos 2D: inicialize centróides aleatórios, faça 10 iterações de (1) atribuir pontos ao centróide mais próximo e (2) recomputar centróides.\n",
        "\n",
        "def kmeans_2d(data, k=3, max_iters=10):\n",
        "    rng = np.random.default_rng(42)\n",
        "    centroids = data[rng.choice(len(data), k, replace=False)]\n",
        "\n",
        "    for _ in range(max_iters):\n",
        "        distances = np.linalg.norm(data[:, np.newaxis] - centroids, axis=2)\n",
        "        labels = np.argmin(distances, axis=1)\n",
        "\n",
        "        new_centroids = np.array([data[labels == i].mean(axis=0) for i in range(k)])\n",
        "\n",
        "        if np.allclose(centroids, new_centroids):\n",
        "            break\n",
        "        centroids = new_centroids\n",
        "\n",
        "    return centroids, labels\n",
        "\n",
        "rng = np.random.default_rng(42)\n",
        "data = np.vstack([\n",
        "    rng.normal([0,0], 1, (100,2)),\n",
        "    rng.normal([5,5], 1, (100,2)),\n",
        "    rng.normal([10,0], 1, (100,2))\n",
        "])\n",
        "centroids, labels = kmeans_2d(data)\n",
        "print(\"Centróides finais:\\n\", centroids)"
      ],
      "metadata": {
        "id": "fjm5is3aBYV6"
      },
      "execution_count": null,
      "outputs": []
    },
    {
      "cell_type": "code",
      "source": [
        "\n",
        "### 38. PCA básica (autovetores)  _(difícil)_\n",
        "\n",
        "#Implemente PCA 2D→1D: centralize `X` (N×2), calcule covariância, autovetores, projete em 1D e reconstrua aproximado.\n",
        "\n",
        "def pca_2d_to_1d(X):\n",
        "\n",
        "    X_centered = X - X.mean(axis=0)\n",
        "\n",
        "    cov = np.cov(X_centered.T)\n",
        "\n",
        "    eigenvalues, eigenvectors = np.linalg.eig(cov)\n",
        "\n",
        "    idx = eigenvalues.argsort()[::-1]\n",
        "    eigenvectors = eigenvectors[:, idx]\n",
        "\n",
        "    X_proj = X_centered @ eigenvectors[:, 0]\n",
        "\n",
        "    X_reconstructed = (X_proj[:, np.newaxis] @ eigenvectors[:, 0][np.newaxis, :]) + X.mean(axis=0)\n",
        "\n",
        "    return X_proj, X_reconstructed\n",
        "\n",
        "X = np.random.randn(100, 2)\n",
        "X_proj, X_recon = pca_2d_to_1d(X)\n",
        "print(f\"Projeção 1D shape: {X_proj.shape}\")\n",
        "print(f\"Reconstrução shape: {X_recon.shape}\")"
      ],
      "metadata": {
        "id": "BWCfxnnyF8_a"
      },
      "execution_count": null,
      "outputs": []
    },
    {
      "cell_type": "code",
      "source": [
        "### 39. Convolução 2D (im2col)  _(difícil)_\n",
        "\n",
        "#Implemente convolução 2D 'valid' de uma imagem `I` por um kernel `K` usando `sliding_window_view` para gerar blocos e multiplicação matricial.\n",
        "\n",
        "def convolve2d_valid(I, K):\n",
        "    from numpy.lib.stride_tricks import sliding_window_view\n",
        "\n",
        "    Kh, Kw = K.shape\n",
        "    Ih, Iw = I.shape\n",
        "\n",
        "    windows = sliding_window_view(I, (Kh, Kw))\n",
        "\n",
        "    result = np.sum(windows * K, axis=(2, 3))\n",
        "\n",
        "    return result\n",
        "\n",
        "I = np.random.rand(10, 10)\n",
        "K = np.array([[1,0,-1],[1,0,-1],[1,0,-1]])\n",
        "result = convolve2d_valid(I, K)\n",
        "print(result.shape)\n"
      ],
      "metadata": {
        "id": "KUFIb4i-F9LB"
      },
      "execution_count": null,
      "outputs": []
    },
    {
      "cell_type": "code",
      "source": [
        "\n",
        "### 40. Sistemas lineares e resíduo  _(difícil)_\n",
        "\n",
        "#Gere uma matriz A (100×100) bem-condicionada, um vetor b e resolva `Ax=b` com `np.linalg.solve`. Compute o resíduo relativo `||Ax−b||/||b||` e `cond(A)`.\n",
        "\n",
        "rng = np.random.default_rng(42)\n",
        "\n",
        "A = rng.standard_normal((100, 100))\n",
        "A = A.T @ A + np.eye(100)  # Tornar definida positiva\n",
        "b = rng.standard_normal(100)\n",
        "\n",
        "x = np.linalg.solve(A, b)\n",
        "\n",
        "residual = np.linalg.norm(A @ x - b) / np.linalg.norm(b)\n",
        "cond_num = np.linalg.cond(A)\n",
        "\n",
        "print(f\"Resíduo relativo: {residual:.2e}\")\n",
        "print(f\"Número de condição: {cond_num:.2e}\")"
      ],
      "metadata": {
        "id": "Bxo2glOVF9P9"
      },
      "execution_count": null,
      "outputs": []
    },
    {
      "cell_type": "code",
      "source": [
        "### 41. Regressão linear (OLS) com NumPy  _(difícil)_\n",
        "\n",
        "#Dado `X` (N×d) e `y`, calcule os coeficientes OLS usando `np.linalg.lstsq` e avalie RMSE no treino.\n",
        "\n",
        "def linear_regression(X, y):\n",
        "    X_with_bias = np.column_stack([np.ones(X.shape[0]), X])\n",
        "\n",
        "    coeffs, residuals, rank, s = np.linalg.lstsq(X_with_bias, y, rcond=None)\n",
        "\n",
        "    y_pred = X_with_bias @ coeffs\n",
        "    rmse = np.sqrt(np.mean((y - y_pred)**2))\n",
        "\n",
        "    return coeffs, rmse\n",
        "\n",
        "rng = np.random.default_rng(42)\n",
        "X = rng.standard_normal((100, 3))\n",
        "true_coeffs = np.array([1, 2, -1, 0.5])\n",
        "y = true_coeffs[0] + X @ true_coeffs[1:] + 0.1 * rng.standard_normal(100)\n",
        "\n",
        "coeffs, rmse = linear_regression(X, y)\n",
        "print(f\"Coeficientes: {coeffs}\")\n",
        "print(f\"RMSE: {rmse:.4f}\")"
      ],
      "metadata": {
        "id": "GL-t1FRyF9XP"
      },
      "execution_count": null,
      "outputs": []
    },
    {
      "cell_type": "code",
      "source": [
        "### 42. Rolling window 2D com strides  _(difícil)_\n",
        "\n",
        "#Usando `sliding_window_view`, compute a média local 3×3 de uma imagem 2D sem laços explícitos.\n",
        "\n",
        "def rolling_mean_2d(image, window_size=3):\n",
        "    from numpy.lib.stride_tricks import sliding_window_view\n",
        "\n",
        "    h, w = image.shape\n",
        "    windows = sliding_window_view(image, (window_size, window_size))\n",
        "\n",
        "    means = np.mean(windows, axis=(2, 3))\n",
        "\n",
        "    return means\n",
        "\n",
        "image = np.random.rand(10, 10)\n",
        "local_means = rolling_mean_2d(image)\n",
        "print(f\"Imagem original: {image.shape}\")\n",
        "print(f\"Médias locais: {local_means.shape}\")"
      ],
      "metadata": {
        "id": "nFtnTeieF9aF"
      },
      "execution_count": null,
      "outputs": []
    }
  ]
}